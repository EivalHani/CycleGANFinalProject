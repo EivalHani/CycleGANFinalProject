{
  "nbformat": 4,
  "nbformat_minor": 0,
  "metadata": {
    "colab": {
      "provenance": []
    },
    "kernelspec": {
      "name": "python3",
      "display_name": "Python 3"
    },
    "language_info": {
      "name": "python"
    }
  },
  "cells": [
    {
      "cell_type": "code",
      "execution_count": null,
      "metadata": {
        "id": "JYnt5JDMhFA9"
      },
      "outputs": [],
      "source": [
        "from google.colab import drive\n",
        "drive.mount('/content/drive')"
      ]
    },
    {
      "cell_type": "code",
      "source": [
        "cd drive\n",
        "cd MyDrive\n",
        "cd CycleGANTrained"
      ],
      "metadata": {
        "id": "VHt6W5eNhGpR"
      },
      "execution_count": null,
      "outputs": []
    },
    {
      "cell_type": "code",
      "source": [
        "!pip install -r requirements.txt"
      ],
      "metadata": {
        "id": "x0n_DWD5hMmY"
      },
      "execution_count": null,
      "outputs": []
    },
    {
      "cell_type": "code",
      "source": [
        "!pip install dominate"
      ],
      "metadata": {
        "id": "3acY0gy_hPbX"
      },
      "execution_count": null,
      "outputs": []
    },
    {
      "cell_type": "code",
      "source": [
        "!pip install visdom"
      ],
      "metadata": {
        "id": "4Nhe2NimhUQX"
      },
      "execution_count": null,
      "outputs": []
    },
    {
      "cell_type": "code",
      "source": [
        "!python test.py --dataroot /content/drive/MyDrive/CycleGAN/dataset --name MRItoZebra --model cycle_gan --epoch 346\n",
        "#now go to results -> MRIToZebra -> test_346"
      ],
      "metadata": {
        "id": "2E8Si8BxhUp6"
      },
      "execution_count": null,
      "outputs": []
    }
  ]
}
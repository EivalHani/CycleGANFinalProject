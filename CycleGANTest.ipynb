{
  "nbformat": 4,
  "nbformat_minor": 0,
  "metadata": {
    "colab": {
      "provenance": []
    },
    "kernelspec": {
      "name": "python3",
      "display_name": "Python 3"
    },
    "language_info": {
      "name": "python"
    }
  },
  "cells": [
    {
      "cell_type": "code",
      "execution_count": null,
      "metadata": {
        "id": "1FWByfBeGqMX"
      },
      "outputs": [],
      "source": [
        "from google.colab import drive\n",
        "drive.mount('/content/drive')"
      ]
    },
    {
      "cell_type": "code",
      "source": [
        "cd drive\n",
        "cd MyDrive\n",
        "cd CycleGANTrained"
      ],
      "metadata": {
        "id": "SHihs96gGw1f"
      },
      "execution_count": null,
      "outputs": []
    },
    {
      "cell_type": "code",
      "source": [
        "!pip install -r requirements.txt"
      ],
      "metadata": {
        "id": "eVsp3qqUGxdi"
      },
      "execution_count": null,
      "outputs": []
    },
    {
      "cell_type": "code",
      "source": [
        "!pip install dominate"
      ],
      "metadata": {
        "id": "eJ7vo98sGzAr"
      },
      "execution_count": null,
      "outputs": []
    },
    {
      "cell_type": "code",
      "source": [
        "!pip install visdom"
      ],
      "metadata": {
        "id": "dd2XrsHrG0i7"
      },
      "execution_count": null,
      "outputs": []
    },
    {
      "cell_type": "code",
      "source": [
        "!python test.py --dataroot /content/drive/MyDrive/CycleGANTrained/dataset --name MRItoZebra --model cycle_gan --epoch 346\n",
        "#now go to results -> MRIToZebra -> test_346"
      ],
      "metadata": {
        "id": "zvTq9ONnG12d"
      },
      "execution_count": null,
      "outputs": []
    },
    {
      "cell_type": "code",
      "source": [
        "#Graphs\n",
        "import matplotlib.pyplot as plt\n",
        "import re\n",
        "\n",
        "def plot_graphs():\n",
        "    # Specify the file path of the loss log\n",
        "    file_path = '/content/drive/MyDrive/CycleGANTrained/checkpoints/MRItoZebra/loss_log.txt'\n",
        "\n",
        "    # Read the lines from the file\n",
        "    with open(file_path, 'r') as file:\n",
        "        lines = file.readlines()\n",
        "\n",
        "        # Initialize variables to store loss values and epoch counter\n",
        "        loss_values = []\n",
        "        epoch_counter = 1\n",
        "\n",
        "        # Iterate over each line in the file\n",
        "        for line in lines:\n",
        "            # Extract the epoch counter from the line\n",
        "            match = re.search(r'\\(epoch: (\\d+)', line)\n",
        "            if match:\n",
        "                epoch_counter = int(match.group(1))\n",
        "\n",
        "            # Extract the loss values for each component from the line\n",
        "            match = re.search(r'D_A: (\\d+\\.\\d+) G_A: (\\d+\\.\\d+) cycle_A: (\\d+\\.\\d+) idt_A: (\\d+\\.\\d+) D_B: (\\d+\\.\\d+) G_B: (\\d+\\.\\d+) cycle_B: (\\d+\\.\\d+) idt_B: (\\d+\\.\\d+)', line)\n",
        "            if match:\n",
        "                # Append the loss values for the current epoch to the list\n",
        "                loss_values.append({\n",
        "                    'epoch': epoch_counter,\n",
        "                    'Discriminator A': float(match.group(1)),\n",
        "                    'Generator A': float(match.group(2)),\n",
        "                    'Cycle A': float(match.group(3)),\n",
        "                    'Identity A': float(match.group(4)),\n",
        "                    'Discriminator B': float(match.group(5)),\n",
        "                    'Generator B': float(match.group(6)),\n",
        "                    'Cycle B': float(match.group(7)),\n",
        "                    'Identity B': float(match.group(8))\n",
        "                })\n",
        "\n",
        "        # Extract the epochs from the loss values\n",
        "        epochs = [data['epoch'] for data in loss_values]\n",
        "\n",
        "        # Create subplots for the graphs\n",
        "        fig, axs = plt.subplots(4, 2, figsize=(10, 12))\n",
        "        fig.tight_layout(pad=4.0)\n",
        "\n",
        "        # Define custom colors for the graphs\n",
        "        colors = ['blue', 'green', 'red', 'orange']\n",
        "\n",
        "        # Define the arrangement of losses in each row\n",
        "        losses = [['Discriminator A', 'Discriminator B'],\n",
        "                  ['Generator A', 'Generator B'],\n",
        "                  ['Cycle A', 'Cycle B'],\n",
        "                  ['Identity A', 'Identity B']]\n",
        "\n",
        "        # Iterate over each row of losses\n",
        "        for i, row_losses in enumerate(losses):\n",
        "            # Iterate over each loss in the current row\n",
        "            for j, loss in enumerate(row_losses):\n",
        "                # Plot the loss values for the current loss with the corresponding color\n",
        "                axs[i, j].plot(epochs, [data[loss] for data in loss_values], color=colors[i])\n",
        "\n",
        "                # Set the x-axis label\n",
        "                axs[i, j].set_xlabel('Epochs')\n",
        "\n",
        "                # Set the y-axis label\n",
        "                axs[i, j].set_ylabel(f'{loss} Loss')\n",
        "\n",
        "                # Set the title of the subplot\n",
        "                axs[i, j].set_title(f'{loss} Loss')\n",
        "\n",
        "        # Adjust spacing between subplots\n",
        "        plt.subplots_adjust(hspace=0.4)\n",
        "\n",
        "        # Display the plots\n",
        "        plt.show()\n",
        "\n",
        "# Call the function to plot the graphs\n",
        "plot_graphs()\n"
      ],
      "metadata": {
        "id": "Qa3uHKUZG58K"
      },
      "execution_count": null,
      "outputs": []
    }
  ]
}
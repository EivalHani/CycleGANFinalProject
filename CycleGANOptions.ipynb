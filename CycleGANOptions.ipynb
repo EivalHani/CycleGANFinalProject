{
  "nbformat": 4,
  "nbformat_minor": 0,
  "metadata": {
    "colab": {
      "provenance": []
    },
    "kernelspec": {
      "name": "python3",
      "display_name": "Python 3"
    },
    "language_info": {
      "name": "python"
    }
  },
  "cells": [
    {
      "cell_type": "code",
      "source": [
        "#If you want to change the dataset, go to:\n",
        "#dataset directory -> trainA and delete its content\n",
        "#dataset directory -> trainB and delete its content\n",
        "#dataset directory -> testA and delete its content\n",
        "#dataset directory -> testB and delete its content\n",
        "#and then do this:"
      ],
      "metadata": {
        "id": "arSzf6qeHo0N"
      },
      "execution_count": null,
      "outputs": []
    },
    {
      "cell_type": "code",
      "execution_count": null,
      "metadata": {
        "id": "av_2TJ6vHPq9"
      },
      "outputs": [],
      "source": [
        "#We took the CycleGAN dataset, you can take other datasets from the CycleGAN model\n",
        "#Mount your google drive and then add this cell:\n",
        "%cd CycleGAN\n",
        "!bash ./datasets/download_cyclegan_dataset.sh horse2zebra"
      ]
    },
    {
      "cell_type": "code",
      "source": [
        "#We modified the MRI dataset and saved 80% of it in training directory. For another dataset change the path of the 'directory'.\n",
        "#After all the instalations add the next 3 cells:\n",
        "import tensorflow as tf\n",
        "import os\n",
        "\n",
        "# Define directory\n",
        "directory = '/content/drive/MyDrive/CycleGANTrained/MRIDataSet/Training/pituitary_tumor'\n",
        "\n",
        "# List all the file paths\n",
        "file_paths = [os.path.join(directory, img) for img in os.listdir(directory)]\n",
        "\n",
        "# Create a dataset from these paths\n",
        "dataset = tf.data.Dataset.from_tensor_slices(file_paths)\n",
        "\n",
        "# Define a function to load, decode, resize, and normalize the image\n",
        "def process_img(file_path):\n",
        "    img = tf.io.read_file(file_path)\n",
        "    img = tf.image.decode_jpeg(img, channels=1)  # change this if your images are not in jpeg format\n",
        "    img = tf.image.resize(img, [256, 256])  # resizing the image\n",
        "    img = tf.cast(img, tf.float32)\n",
        "    img /= 255.0  # normalize to [0,1] range\n",
        "    return img\n",
        "# Apply this function to all items in the dataset\n",
        "dataset = dataset.map(process_img)\n",
        "output_dir = '/content/drive/MyDrive/CycleGANTrained/dataset/trainA'\n",
        "os.makedirs(output_dir, exist_ok=True)  # create the output directory if it doesn't exist\n",
        "\n",
        "for i, image in enumerate(dataset):\n",
        "    output_path = os.path.join(output_dir, f'image_{i}.jpg')\n",
        "    image = tf.cast(image * 255.0, tf.uint8)  # scale back to [0, 255] range\n",
        "    encoded_image = tf.image.encode_jpeg(image)\n",
        "    tf.io.write_file(output_path, encoded_image)\n"
      ],
      "metadata": {
        "id": "d4TtC1XiHUH7"
      },
      "execution_count": null,
      "outputs": []
    },
    {
      "cell_type": "code",
      "source": [
        "#We modified the MRI dataset and saved 20% of it in testing directory.For another dataset change the path of the 'directory'.\n",
        "import tensorflow as tf\n",
        "import os\n",
        "\n",
        "# Define directory\n",
        "directory = '/content/drive/MyDrive/CycleGANTrained/MRIDataSet/Testing/pituitary_tumor'\n",
        "\n",
        "# List all the file paths\n",
        "file_paths = [os.path.join(directory, img) for img in os.listdir(directory)]\n",
        "\n",
        "# Create a dataset from these paths\n",
        "dataset = tf.data.Dataset.from_tensor_slices(file_paths)\n",
        "\n",
        "# Define a function to load, decode, resize, and normalize the image\n",
        "def process_img(file_path):\n",
        "    # Load the raw data from the file\n",
        "    img = tf.io.read_file(file_path)\n",
        "    # Decode the image file to a tensor and set color channels to 1 (grayscale)\n",
        "    img = tf.image.decode_jpeg(img, channels=1)\n",
        "    # Resize the image to 256 x 256 to fit the CycleGAN model requirements\n",
        "    img = tf.image.resize(img, [256, 256])\n",
        "    # Convert the pixel values to float32 type\n",
        "    img = tf.cast(img, tf.float32)\n",
        "    # Normalize the pixel values to the range [0, 1]\n",
        "    img /= 255.0\n",
        "    return img\n",
        "\n",
        "# Apply the process_img function to all images in the dataset\n",
        "dataset = dataset.map(process_img)\n",
        "\n",
        "# Define the output directory where the processed images will be stored\n",
        "output_dir = '/content/drive/MyDrive/CycleGANTrained/dataset/testA'\n",
        "os.makedirs(output_dir, exist_ok=True)\n",
        "\n",
        "for i, image in enumerate(dataset):\n",
        "    # Define the output path for each image\n",
        "    output_path = os.path.join(output_dir, f'image_{i}.jpg')\n",
        "    # Scale the pixel values back to the original range [0, 255]\n",
        "    image = tf.cast(image * 255.0, tf.uint8)\n",
        "    # Encode the image to JPEG format\n",
        "    encoded_image = tf.image.encode_jpeg(image)\n",
        "    # Save the processed image to the output path\n",
        "    tf.io.write_file(output_path, encoded_image)"
      ],
      "metadata": {
        "id": "C4caa5SkHWD3"
      },
      "execution_count": null,
      "outputs": []
    },
    {
      "cell_type": "code",
      "source": [
        "#We modified the zebra dataset\n",
        "import os\n",
        "import cv2\n",
        "\n",
        "# Define directory for the horse dataset\n",
        "horse_directory = '/content/drive/MyDrive/CycleGANTrained/dataset/trainB'\n",
        "\n",
        "# List all the horse file paths\n",
        "horse_file_paths = [os.path.join(horse_directory, img) for img in os.listdir(horse_directory)]\n",
        "\n",
        "# Convert horse images to grayscale\n",
        "for file_path in horse_file_paths:\n",
        "    img = cv2.imread(file_path, cv2.IMREAD_GRAYSCALE)\n",
        "    cv2.imwrite(file_path, img)\n",
        "\n",
        "# Define directory for the zebra dataset\n",
        "zebra_directory = '/content/drive/MyDrive/CycleGANTrained/dataset/testB'\n",
        "\n",
        "# List all the zebra file paths\n",
        "zebra_file_paths = [os.path.join(zebra_directory, img) for img in os.listdir(zebra_directory)]\n",
        "\n",
        "# Convert zebra images to grayscale\n",
        "for file_path in zebra_file_paths:\n",
        "    img = cv2.imread(file_path, cv2.IMREAD_GRAYSCALE)\n",
        "    cv2.imwrite(file_path,img)"
      ],
      "metadata": {
        "id": "7g3Mfrg6HhK1"
      },
      "execution_count": null,
      "outputs": []
    },
    {
      "cell_type": "code",
      "source": [
        "#Now you can train on other datasets."
      ],
      "metadata": {
        "id": "csNuaGeXHn9x"
      },
      "execution_count": null,
      "outputs": []
    },
    {
      "cell_type": "code",
      "source": [
        "#For the regular CycleGAN training (200 epochs): (change the epoch count according to the last saved chakpoint)\n",
        "!python train.py --dataroot /content/drive/MyDrive/CycleGANTrained/dataset --name MRItoZebra --model cycle_gan --continue_train --epoch_count 1"
      ],
      "metadata": {
        "id": "1nWnrZ4GJWAA"
      },
      "execution_count": null,
      "outputs": []
    },
    {
      "cell_type": "code",
      "source": [
        "# If you want to keep training with constant learning rate add: (change the epoch count according to the last saved chakpoint)\n",
        "!python train.py --dataroot /content/drive/MyDrive/CycleGANTrained/dataset --name MRItoZebra --model cycle_gan --continue_train --epoch_count 265 --n_epochs 300 --n_epochs_decay 200 --lr 0.0002\n",
        "#In this command, We set n_epochs_decay to 10000.\n",
        "#This means that the learning rate will start decaying only after 10000 epochs, which effectively makes the learning rate constant at 0.0002 for the training duration of less than 1000 epochs.\n",
        "#If you want more than 10000 just change the n_epochs_decay number."
      ],
      "metadata": {
        "id": "v-XWCjdFJqbe"
      },
      "execution_count": null,
      "outputs": []
    },
    {
      "cell_type": "code",
      "source": [
        "#If you want to keep training with learning rate decay phase: (change the epoch count according to the last saved chakpoint)\n",
        "!python train.py --dataroot /content/drive/MyDrive/CycleGANTrained/dataset --name MRItoZebra --model cycle_gan --continue_train --epoch_count 346 --n_epochs 295 --n_epochs_decay 200 --lr 0.0002 --display_id 0\n",
        "#epoch_count is on which epoch we are now, n_epochs is the number of epochs with a constant learning rate and n_epochs_decay is the count of epochs from now until the learning rate will get to 0.\n"
      ],
      "metadata": {
        "id": "zYgqqIv-KRpQ"
      },
      "execution_count": null,
      "outputs": []
    }
  ]
}